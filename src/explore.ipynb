{
    "cells": [
        {
            "cell_type": "markdown",
            "metadata": {},
            "source": [
                "# Explore here\n",
                "\n",
                "It's recommended to use this notebook for exploration purposes."
            ]
        },
        {
            "cell_type": "code",
            "execution_count": null,
            "metadata": {},
            "outputs": [],
            "source": [
                "import os\n",
                "from sqlalchemy import create_engine\n",
                "import pandas as pd\n",
                "from dotenv import load_dotenv\n",
                "\n",
                "# load the .env file variables\n",
                "load_dotenv()\n",
                "\n",
                "# 1) Connect to the database here using the SQLAlchemy's create_engine function\n",
                "\n",
                "# 2) Execute the SQL sentences to create your tables using the SQLAlchemy's execute function\n",
                "\n",
                "# 3) Execute the SQL sentences to insert your data using the SQLAlchemy's execute function\n",
                "\n",
                "# 4) Use pandas to print one of the tables as dataframes using read_sql function\n",
                "\n",
                "# Requests library to download https etc\n",
                "import requests\n",
                "\n",
                "# dowload from own server?\n",
                "# req = requests.get(url, time.sleep(10)).text ?? \n",
                "req = requests.get('https://vaz.io/tesla')\n",
                "# Beautifulsoup to extract the tables\n",
                "req = requests-get('https...')\n",
                "soup = BeautifulSoup(req.text)\n",
                "# Save the data to a Dataframe / Database with Pandas\n",
                "\n",
                "\n",
                "from bs4 import BeautifulSoup\n",
                "\n"
            ]
        }
    ],
    "metadata": {
        "kernelspec": {
            "display_name": "Python 3.8.13 64-bit ('3.8.13')",
            "language": "python",
            "name": "python3"
        },
        "language_info": {
            "codemirror_mode": {
                "name": "ipython",
                "version": 3
            },
            "file_extension": ".py",
            "mimetype": "text/x-python",
            "name": "python",
            "nbconvert_exporter": "python",
            "pygments_lexer": "ipython3",
            "version": "3.11.4"
        },
        "orig_nbformat": 4,
        "vscode": {
            "interpreter": {
                "hash": "110cc1dee26208153f2972f08a2ad52b6a56238dc66d48e87fb757ef2996db56"
            }
        }
    },
    "nbformat": 4,
    "nbformat_minor": 2
}

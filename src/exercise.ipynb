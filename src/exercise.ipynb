{
 "cells": [
  {
   "cell_type": "code",
   "execution_count": 2,
   "metadata": {},
   "outputs": [
    {
     "data": {
      "text/plain": [
       "6"
      ]
     },
     "execution_count": 2,
     "metadata": {},
     "output_type": "execute_result"
    }
   ],
   "source": [
    "import os\n",
    "from sqlalchemy import create_engine\n",
    "import pandas as pd\n",
    "from dotenv import load_dotenv\n",
    "from bs4 import BeautifulSoup\n",
    "import requests\n",
    "\n",
    "req = requests.get('https://vaz.io/tesla') # whole html\n",
    "\n",
    "# get all tables from html\n",
    "soup = BeautifulSoup(req.text)\n",
    "all_tables = soup.find_all(\"table\")\n",
    "len(all_tables)\n"
   ]
  },
  {
   "cell_type": "code",
   "execution_count": 9,
   "metadata": {},
   "outputs": [
    {
     "name": "stdout",
     "output_type": "stream",
     "text": [
      "it is NOT in 0\n",
      "It is in 1\n",
      "it is NOT in 2\n",
      "it is NOT in 3\n",
      "it is NOT in 4\n",
      "it is NOT in 5\n"
     ]
    }
   ],
   "source": [
    "# we can't read the format of all_tables[1]text\n",
    "# find the table with quarterly\n",
    "table_number = 0\n",
    "\n",
    "for table in all_tables:\n",
    "    if 'Quarterly' in table.text:\n",
    "        print(\"It is in\", table_number)\n",
    "        quarterly_number = table_number\n",
    "    else: \n",
    "        print(\"it is NOT in\", table_number)\n",
    "    table_number = table_number + 1\n"
   ]
  },
  {
   "cell_type": "code",
   "execution_count": 10,
   "metadata": {},
   "outputs": [
    {
     "data": {
      "text/plain": [
       "1"
      ]
     },
     "execution_count": 10,
     "metadata": {},
     "output_type": "execute_result"
    }
   ],
   "source": [
    "quarterly_number"
   ]
  },
  {
   "cell_type": "code",
   "execution_count": 11,
   "metadata": {},
   "outputs": [
    {
     "data": {
      "text/plain": [
       "60"
      ]
     },
     "execution_count": 11,
     "metadata": {},
     "output_type": "execute_result"
    }
   ],
   "source": [
    "quarterly_table = all_tables[quarterly_number]\n",
    "\n",
    "quarterly_rows = quarterly_table.findAll('tr')\n",
    "len(quarterly_rows)"
   ]
  },
  {
   "cell_type": "code",
   "execution_count": 15,
   "metadata": {},
   "outputs": [
    {
     "name": "stdout",
     "output_type": "stream",
     "text": [
      "[<tr>\n",
      "<th colspan=\"2\" style=\"text-align:center\">Tesla Quarterly Revenue<br/><span style=\"font-size:14px;\">(Millions of US $)</span></th>\n",
      "</tr>, <tr>\n",
      "<td style=\"text-align:center\">2023-12-31</td>\n",
      "<td style=\"text-align:center\">$25,167</td>\n",
      "</tr>, <tr>\n",
      "<td style=\"text-align:center\">2023-09-30</td>\n",
      "<td style=\"text-align:center\">$23,350</td>\n",
      "</tr>, <tr>\n",
      "<td style=\"text-align:center\">2023-06-30</td>\n",
      "<td style=\"text-align:center\">$24,927</td>\n",
      "</tr>, <tr>\n",
      "<td style=\"text-align:center\">2023-03-31</td>\n",
      "<td style=\"text-align:center\">$23,329</td>\n",
      "</tr>, <tr>\n",
      "<td style=\"text-align:center\">2022-12-31</td>\n",
      "<td style=\"text-align:center\">$24,318</td>\n",
      "</tr>, <tr>\n",
      "<td style=\"text-align:center\">2022-09-30</td>\n",
      "<td style=\"text-align:center\">$21,454</td>\n",
      "</tr>, <tr>\n",
      "<td style=\"text-align:center\">2022-06-30</td>\n",
      "<td style=\"text-align:center\">$16,934</td>\n",
      "</tr>, <tr>\n",
      "<td style=\"text-align:center\">2022-03-31</td>\n",
      "<td style=\"text-align:center\">$18,756</td>\n",
      "</tr>, <tr>\n",
      "<td style=\"text-align:center\">2021-12-31</td>\n",
      "<td style=\"text-align:center\">$17,719</td>\n",
      "</tr>, <tr>\n",
      "<td style=\"text-align:center\">2021-09-30</td>\n",
      "<td style=\"text-align:center\">$13,757</td>\n",
      "</tr>, <tr>\n",
      "<td style=\"text-align:center\">2021-06-30</td>\n",
      "<td style=\"text-align:center\">$11,958</td>\n",
      "</tr>, <tr>\n",
      "<td style=\"text-align:center\">2021-03-31</td>\n",
      "<td style=\"text-align:center\">$10,389</td>\n",
      "</tr>, <tr>\n",
      "<td style=\"text-align:center\">2020-12-31</td>\n",
      "<td style=\"text-align:center\">$10,744</td>\n",
      "</tr>, <tr>\n",
      "<td style=\"text-align:center\">2020-09-30</td>\n",
      "<td style=\"text-align:center\">$8,771</td>\n",
      "</tr>, <tr>\n",
      "<td style=\"text-align:center\">2020-06-30</td>\n",
      "<td style=\"text-align:center\">$6,036</td>\n",
      "</tr>, <tr>\n",
      "<td style=\"text-align:center\">2020-03-31</td>\n",
      "<td style=\"text-align:center\">$5,985</td>\n",
      "</tr>, <tr>\n",
      "<td style=\"text-align:center\">2019-12-31</td>\n",
      "<td style=\"text-align:center\">$7,384</td>\n",
      "</tr>, <tr>\n",
      "<td style=\"text-align:center\">2019-09-30</td>\n",
      "<td style=\"text-align:center\">$6,303</td>\n",
      "</tr>, <tr>\n",
      "<td style=\"text-align:center\">2019-06-30</td>\n",
      "<td style=\"text-align:center\">$6,350</td>\n",
      "</tr>, <tr>\n",
      "<td style=\"text-align:center\">2019-03-31</td>\n",
      "<td style=\"text-align:center\">$4,541</td>\n",
      "</tr>, <tr>\n",
      "<td style=\"text-align:center\">2018-12-31</td>\n",
      "<td style=\"text-align:center\">$7,226</td>\n",
      "</tr>, <tr>\n",
      "<td style=\"text-align:center\">2018-09-30</td>\n",
      "<td style=\"text-align:center\">$6,824</td>\n",
      "</tr>, <tr>\n",
      "<td style=\"text-align:center\">2018-06-30</td>\n",
      "<td style=\"text-align:center\">$4,002</td>\n",
      "</tr>, <tr>\n",
      "<td style=\"text-align:center\">2018-03-31</td>\n",
      "<td style=\"text-align:center\">$3,409</td>\n",
      "</tr>, <tr>\n",
      "<td style=\"text-align:center\">2017-12-31</td>\n",
      "<td style=\"text-align:center\">$3,288</td>\n",
      "</tr>, <tr>\n",
      "<td style=\"text-align:center\">2017-09-30</td>\n",
      "<td style=\"text-align:center\">$2,985</td>\n",
      "</tr>, <tr>\n",
      "<td style=\"text-align:center\">2017-06-30</td>\n",
      "<td style=\"text-align:center\">$2,790</td>\n",
      "</tr>, <tr>\n",
      "<td style=\"text-align:center\">2017-03-31</td>\n",
      "<td style=\"text-align:center\">$2,696</td>\n",
      "</tr>, <tr>\n",
      "<td style=\"text-align:center\">2016-12-31</td>\n",
      "<td style=\"text-align:center\">$2,285</td>\n",
      "</tr>, <tr>\n",
      "<td style=\"text-align:center\">2016-09-30</td>\n",
      "<td style=\"text-align:center\">$2,298</td>\n",
      "</tr>, <tr>\n",
      "<td style=\"text-align:center\">2016-06-30</td>\n",
      "<td style=\"text-align:center\">$1,270</td>\n",
      "</tr>, <tr>\n",
      "<td style=\"text-align:center\">2016-03-31</td>\n",
      "<td style=\"text-align:center\">$1,147</td>\n",
      "</tr>, <tr>\n",
      "<td style=\"text-align:center\">2015-12-31</td>\n",
      "<td style=\"text-align:center\">$1,214</td>\n",
      "</tr>, <tr>\n",
      "<td style=\"text-align:center\">2015-09-30</td>\n",
      "<td style=\"text-align:center\">$937</td>\n",
      "</tr>, <tr>\n",
      "<td style=\"text-align:center\">2015-06-30</td>\n",
      "<td style=\"text-align:center\">$955</td>\n",
      "</tr>, <tr>\n",
      "<td style=\"text-align:center\">2015-03-31</td>\n",
      "<td style=\"text-align:center\">$940</td>\n",
      "</tr>, <tr>\n",
      "<td style=\"text-align:center\">2014-12-31</td>\n",
      "<td style=\"text-align:center\">$957</td>\n",
      "</tr>, <tr>\n",
      "<td style=\"text-align:center\">2014-09-30</td>\n",
      "<td style=\"text-align:center\">$852</td>\n",
      "</tr>, <tr>\n",
      "<td style=\"text-align:center\">2014-06-30</td>\n",
      "<td style=\"text-align:center\">$769</td>\n",
      "</tr>, <tr>\n",
      "<td style=\"text-align:center\">2014-03-31</td>\n",
      "<td style=\"text-align:center\">$621</td>\n",
      "</tr>, <tr>\n",
      "<td style=\"text-align:center\">2013-12-31</td>\n",
      "<td style=\"text-align:center\">$615</td>\n",
      "</tr>, <tr>\n",
      "<td style=\"text-align:center\">2013-09-30</td>\n",
      "<td style=\"text-align:center\">$431</td>\n",
      "</tr>, <tr>\n",
      "<td style=\"text-align:center\">2013-06-30</td>\n",
      "<td style=\"text-align:center\">$405</td>\n",
      "</tr>, <tr>\n",
      "<td style=\"text-align:center\">2013-03-31</td>\n",
      "<td style=\"text-align:center\">$562</td>\n",
      "</tr>, <tr>\n",
      "<td style=\"text-align:center\">2012-12-31</td>\n",
      "<td style=\"text-align:center\">$306</td>\n",
      "</tr>, <tr>\n",
      "<td style=\"text-align:center\">2012-09-30</td>\n",
      "<td style=\"text-align:center\">$50</td>\n",
      "</tr>, <tr>\n",
      "<td style=\"text-align:center\">2012-06-30</td>\n",
      "<td style=\"text-align:center\">$27</td>\n",
      "</tr>, <tr>\n",
      "<td style=\"text-align:center\">2012-03-31</td>\n",
      "<td style=\"text-align:center\">$30</td>\n",
      "</tr>, <tr>\n",
      "<td style=\"text-align:center\">2011-12-31</td>\n",
      "<td style=\"text-align:center\">$39</td>\n",
      "</tr>, <tr>\n",
      "<td style=\"text-align:center\">2011-09-30</td>\n",
      "<td style=\"text-align:center\">$58</td>\n",
      "</tr>, <tr>\n",
      "<td style=\"text-align:center\">2011-06-30</td>\n",
      "<td style=\"text-align:center\">$58</td>\n",
      "</tr>, <tr>\n",
      "<td style=\"text-align:center\">2011-03-31</td>\n",
      "<td style=\"text-align:center\">$49</td>\n",
      "</tr>, <tr>\n",
      "<td style=\"text-align:center\">2010-12-31</td>\n",
      "<td style=\"text-align:center\">$36</td>\n",
      "</tr>, <tr>\n",
      "<td style=\"text-align:center\">2010-09-30</td>\n",
      "<td style=\"text-align:center\">$31</td>\n",
      "</tr>, <tr>\n",
      "<td style=\"text-align:center\">2010-06-30</td>\n",
      "<td style=\"text-align:center\">$28</td>\n",
      "</tr>, <tr>\n",
      "<td style=\"text-align:center\">2010-03-31</td>\n",
      "<td style=\"text-align:center\">$21</td>\n",
      "</tr>, <tr>\n",
      "<td style=\"text-align:center\">2009-12-31</td>\n",
      "<td style=\"text-align:center\"></td>\n",
      "</tr>, <tr>\n",
      "<td style=\"text-align:center\">2009-09-30</td>\n",
      "<td style=\"text-align:center\">$46</td>\n",
      "</tr>, <tr>\n",
      "<td style=\"text-align:center\">2009-06-30</td>\n",
      "<td style=\"text-align:center\">$27</td>\n",
      "</tr>]\n"
     ]
    }
   ],
   "source": [
    "print(quarterly_rows)"
   ]
  },
  {
   "cell_type": "code",
   "execution_count": 22,
   "metadata": {},
   "outputs": [
    {
     "name": "stdout",
     "output_type": "stream",
     "text": [
      "[['2023-12-31', 25167.0], ['2023-09-30', 23350.0], ['2023-06-30', 24927.0], ['2023-03-31', 23329.0], ['2022-12-31', 24318.0], ['2022-09-30', 21454.0], ['2022-06-30', 16934.0], ['2022-03-31', 18756.0], ['2021-12-31', 17719.0], ['2021-09-30', 13757.0], ['2021-06-30', 11958.0], ['2021-03-31', 10389.0], ['2020-12-31', 10744.0], ['2020-09-30', 8771.0], ['2020-06-30', 6036.0], ['2020-03-31', 5985.0], ['2019-12-31', 7384.0], ['2019-09-30', 6303.0], ['2019-06-30', 6350.0], ['2019-03-31', 4541.0], ['2018-12-31', 7226.0], ['2018-09-30', 6824.0], ['2018-06-30', 4002.0], ['2018-03-31', 3409.0], ['2017-12-31', 3288.0], ['2017-09-30', 2985.0], ['2017-06-30', 2790.0], ['2017-03-31', 2696.0], ['2016-12-31', 2285.0], ['2016-09-30', 2298.0], ['2016-06-30', 1270.0], ['2016-03-31', 1147.0], ['2015-12-31', 1214.0], ['2015-09-30', 937.0], ['2015-06-30', 955.0], ['2015-03-31', 940.0], ['2014-12-31', 957.0], ['2014-09-30', 852.0], ['2014-06-30', 769.0], ['2014-03-31', 621.0], ['2013-12-31', 615.0], ['2013-09-30', 431.0], ['2013-06-30', 405.0], ['2013-03-31', 562.0], ['2012-12-31', 306.0], ['2012-09-30', 50.0], ['2012-06-30', 27.0], ['2012-03-31', 30.0], ['2011-12-31', 39.0], ['2011-09-30', 58.0], ['2011-06-30', 58.0], ['2011-03-31', 49.0], ['2010-12-31', 36.0], ['2010-09-30', 31.0], ['2010-06-30', 28.0], ['2010-03-31', 21.0], ['2009-09-30', 46.0], ['2009-06-30', 27.0]]\n"
     ]
    }
   ],
   "source": [
    "# store data in the dataframe\n",
    "new_table = []\n",
    "\n",
    "# find alla data from the rows\n",
    "\n",
    "for row in quarterly_rows:\n",
    "    tds = row.findAll('td')\n",
    "    if len(tds) == 2: # 2 is the numbers of the tds in the row. The first row for example is empty, we do not want it\n",
    "        # print cell content , first the date one and then the dollar one (0 is index from tds and not from the rows! 0, 1 are index within the tds 2 elements)\n",
    "       # print(tds[0].text, tds[1].text) \n",
    "        if tds[1].text != '':\n",
    "        # print(tds[0].text, float(tds[1].text.replace('$', '').replace(',', '.')))\n",
    "            row_date = tds[0].text\n",
    "            row_value = float(tds[1].text.replace('$', '').replace(',', '')) # cleaned and converted to number\n",
    "            new_table.append([row_date, row_value])\n",
    "    \n",
    "\n",
    "print(new_table)\n",
    "\n"
   ]
  },
  {
   "cell_type": "code",
   "execution_count": 23,
   "metadata": {},
   "outputs": [
    {
     "name": "stdout",
     "output_type": "stream",
     "text": [
      "25.1\n"
     ]
    }
   ],
   "source": [
    "# just example of replace\n",
    "number_ex = '$25,1'\n",
    "real_number = float(number_ex.replace('$', '').replace(',', '.'))\n",
    "print(real_number)"
   ]
  },
  {
   "cell_type": "code",
   "execution_count": 24,
   "metadata": {},
   "outputs": [
    {
     "data": {
      "text/plain": [
       "<Axes: >"
      ]
     },
     "execution_count": 24,
     "metadata": {},
     "output_type": "execute_result"
    },
    {
     "data": {
      "image/png": "[encoded data removed]",
      "text/plain": [
       "<Figure size 640x480 with 1 Axes>"
      ]
     },
     "metadata": {},
     "output_type": "display_data"
    }
   ],
   "source": [
    "df_table = pd.DataFrame(new_table)\n",
    "df_table.columns = [\"Date\", \"Value\"]\n",
    "df_table.plot()"
   ]
  },
  {
   "cell_type": "code",
   "execution_count": 25,
   "metadata": {},
   "outputs": [
    {
     "data": {
      "text/html": [
       "<div>\n",
       "<style scoped>\n",
       "    .dataframe tbody tr th:only-of-type {\n",
       "        vertical-align: middle;\n",
       "    }\n",
       "\n",
       "    .dataframe tbody tr th {\n",
       "        vertical-align: top;\n",
       "    }\n",
       "\n",
       "    .dataframe thead th {\n",
       "        text-align: right;\n",
       "    }\n",
       "</style>\n",
       "<table border=\"1\" class=\"dataframe\">\n",
       "  <thead>\n",
       "    <tr style=\"text-align: right;\">\n",
       "      <th></th>\n",
       "      <th>Date</th>\n",
       "      <th>Value</th>\n",
       "    </tr>\n",
       "  </thead>\n",
       "  <tbody>\n",
       "    <tr>\n",
       "      <th>0</th>\n",
       "      <td>2023-12-31</td>\n",
       "      <td>25167.0</td>\n",
       "    </tr>\n",
       "    <tr>\n",
       "      <th>1</th>\n",
       "      <td>2023-09-30</td>\n",
       "      <td>23350.0</td>\n",
       "    </tr>\n",
       "    <tr>\n",
       "      <th>2</th>\n",
       "      <td>2023-06-30</td>\n",
       "      <td>24927.0</td>\n",
       "    </tr>\n",
       "    <tr>\n",
       "      <th>3</th>\n",
       "      <td>2023-03-31</td>\n",
       "      <td>23329.0</td>\n",
       "    </tr>\n",
       "    <tr>\n",
       "      <th>4</th>\n",
       "      <td>2022-12-31</td>\n",
       "      <td>24318.0</td>\n",
       "    </tr>\n",
       "    <tr>\n",
       "      <th>5</th>\n",
       "      <td>2022-09-30</td>\n",
       "      <td>21454.0</td>\n",
       "    </tr>\n",
       "    <tr>\n",
       "      <th>6</th>\n",
       "      <td>2022-06-30</td>\n",
       "      <td>16934.0</td>\n",
       "    </tr>\n",
       "    <tr>\n",
       "      <th>7</th>\n",
       "      <td>2022-03-31</td>\n",
       "      <td>18756.0</td>\n",
       "    </tr>\n",
       "    <tr>\n",
       "      <th>8</th>\n",
       "      <td>2021-12-31</td>\n",
       "      <td>17719.0</td>\n",
       "    </tr>\n",
       "    <tr>\n",
       "      <th>9</th>\n",
       "      <td>2021-09-30</td>\n",
       "      <td>13757.0</td>\n",
       "    </tr>\n",
       "    <tr>\n",
       "      <th>10</th>\n",
       "      <td>2021-06-30</td>\n",
       "      <td>11958.0</td>\n",
       "    </tr>\n",
       "    <tr>\n",
       "      <th>11</th>\n",
       "      <td>2021-03-31</td>\n",
       "      <td>10389.0</td>\n",
       "    </tr>\n",
       "    <tr>\n",
       "      <th>12</th>\n",
       "      <td>2020-12-31</td>\n",
       "      <td>10744.0</td>\n",
       "    </tr>\n",
       "    <tr>\n",
       "      <th>13</th>\n",
       "      <td>2020-09-30</td>\n",
       "      <td>8771.0</td>\n",
       "    </tr>\n",
       "    <tr>\n",
       "      <th>14</th>\n",
       "      <td>2020-06-30</td>\n",
       "      <td>6036.0</td>\n",
       "    </tr>\n",
       "    <tr>\n",
       "      <th>15</th>\n",
       "      <td>2020-03-31</td>\n",
       "      <td>5985.0</td>\n",
       "    </tr>\n",
       "    <tr>\n",
       "      <th>16</th>\n",
       "      <td>2019-12-31</td>\n",
       "      <td>7384.0</td>\n",
       "    </tr>\n",
       "    <tr>\n",
       "      <th>17</th>\n",
       "      <td>2019-09-30</td>\n",
       "      <td>6303.0</td>\n",
       "    </tr>\n",
       "    <tr>\n",
       "      <th>18</th>\n",
       "      <td>2019-06-30</td>\n",
       "      <td>6350.0</td>\n",
       "    </tr>\n",
       "    <tr>\n",
       "      <th>19</th>\n",
       "      <td>2019-03-31</td>\n",
       "      <td>4541.0</td>\n",
       "    </tr>\n",
       "    <tr>\n",
       "      <th>20</th>\n",
       "      <td>2018-12-31</td>\n",
       "      <td>7226.0</td>\n",
       "    </tr>\n",
       "    <tr>\n",
       "      <th>21</th>\n",
       "      <td>2018-09-30</td>\n",
       "      <td>6824.0</td>\n",
       "    </tr>\n",
       "    <tr>\n",
       "      <th>22</th>\n",
       "      <td>2018-06-30</td>\n",
       "      <td>4002.0</td>\n",
       "    </tr>\n",
       "    <tr>\n",
       "      <th>23</th>\n",
       "      <td>2018-03-31</td>\n",
       "      <td>3409.0</td>\n",
       "    </tr>\n",
       "    <tr>\n",
       "      <th>24</th>\n",
       "      <td>2017-12-31</td>\n",
       "      <td>3288.0</td>\n",
       "    </tr>\n",
       "    <tr>\n",
       "      <th>25</th>\n",
       "      <td>2017-09-30</td>\n",
       "      <td>2985.0</td>\n",
       "    </tr>\n",
       "    <tr>\n",
       "      <th>26</th>\n",
       "      <td>2017-06-30</td>\n",
       "      <td>2790.0</td>\n",
       "    </tr>\n",
       "    <tr>\n",
       "      <th>27</th>\n",
       "      <td>2017-03-31</td>\n",
       "      <td>2696.0</td>\n",
       "    </tr>\n",
       "    <tr>\n",
       "      <th>28</th>\n",
       "      <td>2016-12-31</td>\n",
       "      <td>2285.0</td>\n",
       "    </tr>\n",
       "    <tr>\n",
       "      <th>29</th>\n",
       "      <td>2016-09-30</td>\n",
       "      <td>2298.0</td>\n",
       "    </tr>\n",
       "    <tr>\n",
       "      <th>30</th>\n",
       "      <td>2016-06-30</td>\n",
       "      <td>1270.0</td>\n",
       "    </tr>\n",
       "    <tr>\n",
       "      <th>31</th>\n",
       "      <td>2016-03-31</td>\n",
       "      <td>1147.0</td>\n",
       "    </tr>\n",
       "    <tr>\n",
       "      <th>32</th>\n",
       "      <td>2015-12-31</td>\n",
       "      <td>1214.0</td>\n",
       "    </tr>\n",
       "    <tr>\n",
       "      <th>33</th>\n",
       "      <td>2015-09-30</td>\n",
       "      <td>937.0</td>\n",
       "    </tr>\n",
       "    <tr>\n",
       "      <th>34</th>\n",
       "      <td>2015-06-30</td>\n",
       "      <td>955.0</td>\n",
       "    </tr>\n",
       "    <tr>\n",
       "      <th>35</th>\n",
       "      <td>2015-03-31</td>\n",
       "      <td>940.0</td>\n",
       "    </tr>\n",
       "    <tr>\n",
       "      <th>36</th>\n",
       "      <td>2014-12-31</td>\n",
       "      <td>957.0</td>\n",
       "    </tr>\n",
       "    <tr>\n",
       "      <th>37</th>\n",
       "      <td>2014-09-30</td>\n",
       "      <td>852.0</td>\n",
       "    </tr>\n",
       "    <tr>\n",
       "      <th>38</th>\n",
       "      <td>2014-06-30</td>\n",
       "      <td>769.0</td>\n",
       "    </tr>\n",
       "    <tr>\n",
       "      <th>39</th>\n",
       "      <td>2014-03-31</td>\n",
       "      <td>621.0</td>\n",
       "    </tr>\n",
       "    <tr>\n",
       "      <th>40</th>\n",
       "      <td>2013-12-31</td>\n",
       "      <td>615.0</td>\n",
       "    </tr>\n",
       "    <tr>\n",
       "      <th>41</th>\n",
       "      <td>2013-09-30</td>\n",
       "      <td>431.0</td>\n",
       "    </tr>\n",
       "    <tr>\n",
       "      <th>42</th>\n",
       "      <td>2013-06-30</td>\n",
       "      <td>405.0</td>\n",
       "    </tr>\n",
       "    <tr>\n",
       "      <th>43</th>\n",
       "      <td>2013-03-31</td>\n",
       "      <td>562.0</td>\n",
       "    </tr>\n",
       "    <tr>\n",
       "      <th>44</th>\n",
       "      <td>2012-12-31</td>\n",
       "      <td>306.0</td>\n",
       "    </tr>\n",
       "    <tr>\n",
       "      <th>45</th>\n",
       "      <td>2012-09-30</td>\n",
       "      <td>50.0</td>\n",
       "    </tr>\n",
       "    <tr>\n",
       "      <th>46</th>\n",
       "      <td>2012-06-30</td>\n",
       "      <td>27.0</td>\n",
       "    </tr>\n",
       "    <tr>\n",
       "      <th>47</th>\n",
       "      <td>2012-03-31</td>\n",
       "      <td>30.0</td>\n",
       "    </tr>\n",
       "    <tr>\n",
       "      <th>48</th>\n",
       "      <td>2011-12-31</td>\n",
       "      <td>39.0</td>\n",
       "    </tr>\n",
       "    <tr>\n",
       "      <th>49</th>\n",
       "      <td>2011-09-30</td>\n",
       "      <td>58.0</td>\n",
       "    </tr>\n",
       "    <tr>\n",
       "      <th>50</th>\n",
       "      <td>2011-06-30</td>\n",
       "      <td>58.0</td>\n",
       "    </tr>\n",
       "    <tr>\n",
       "      <th>51</th>\n",
       "      <td>2011-03-31</td>\n",
       "      <td>49.0</td>\n",
       "    </tr>\n",
       "    <tr>\n",
       "      <th>52</th>\n",
       "      <td>2010-12-31</td>\n",
       "      <td>36.0</td>\n",
       "    </tr>\n",
       "    <tr>\n",
       "      <th>53</th>\n",
       "      <td>2010-09-30</td>\n",
       "      <td>31.0</td>\n",
       "    </tr>\n",
       "    <tr>\n",
       "      <th>54</th>\n",
       "      <td>2010-06-30</td>\n",
       "      <td>28.0</td>\n",
       "    </tr>\n",
       "    <tr>\n",
       "      <th>55</th>\n",
       "      <td>2010-03-31</td>\n",
       "      <td>21.0</td>\n",
       "    </tr>\n",
       "    <tr>\n",
       "      <th>56</th>\n",
       "      <td>2009-09-30</td>\n",
       "      <td>46.0</td>\n",
       "    </tr>\n",
       "    <tr>\n",
       "      <th>57</th>\n",
       "      <td>2009-06-30</td>\n",
       "      <td>27.0</td>\n",
       "    </tr>\n",
       "  </tbody>\n",
       "</table>\n",
       "</div>"
      ],
      "text/plain": [
       "          Date    Value\n",
       "0   2023-12-31  25167.0\n",
       "1   2023-09-30  23350.0\n",
       "2   2023-06-30  24927.0\n",
       "3   2023-03-31  23329.0\n",
       "4   2022-12-31  24318.0\n",
       "5   2022-09-30  21454.0\n",
       "6   2022-06-30  16934.0\n",
       "7   2022-03-31  18756.0\n",
       "8   2021-12-31  17719.0\n",
       "9   2021-09-30  13757.0\n",
       "10  2021-06-30  11958.0\n",
       "11  2021-03-31  10389.0\n",
       "12  2020-12-31  10744.0\n",
       "13  2020-09-30   8771.0\n",
       "14  2020-06-30   6036.0\n",
       "15  2020-03-31   5985.0\n",
       "16  2019-12-31   7384.0\n",
       "17  2019-09-30   6303.0\n",
       "18  2019-06-30   6350.0\n",
       "19  2019-03-31   4541.0\n",
       "20  2018-12-31   7226.0\n",
       "21  2018-09-30   6824.0\n",
       "22  2018-06-30   4002.0\n",
       "23  2018-03-31   3409.0\n",
       "24  2017-12-31   3288.0\n",
       "25  2017-09-30   2985.0\n",
       "26  2017-06-30   2790.0\n",
       "27  2017-03-31   2696.0\n",
       "28  2016-12-31   2285.0\n",
       "29  2016-09-30   2298.0\n",
       "30  2016-06-30   1270.0\n",
       "31  2016-03-31   1147.0\n",
       "32  2015-12-31   1214.0\n",
       "33  2015-09-30    937.0\n",
       "34  2015-06-30    955.0\n",
       "35  2015-03-31    940.0\n",
       "36  2014-12-31    957.0\n",
       "37  2014-09-30    852.0\n",
       "38  2014-06-30    769.0\n",
       "39  2014-03-31    621.0\n",
       "40  2013-12-31    615.0\n",
       "41  2013-09-30    431.0\n",
       "42  2013-06-30    405.0\n",
       "43  2013-03-31    562.0\n",
       "44  2012-12-31    306.0\n",
       "45  2012-09-30     50.0\n",
       "46  2012-06-30     27.0\n",
       "47  2012-03-31     30.0\n",
       "48  2011-12-31     39.0\n",
       "49  2011-09-30     58.0\n",
       "50  2011-06-30     58.0\n",
       "51  2011-03-31     49.0\n",
       "52  2010-12-31     36.0\n",
       "53  2010-09-30     31.0\n",
       "54  2010-06-30     28.0\n",
       "55  2010-03-31     21.0\n",
       "56  2009-09-30     46.0\n",
       "57  2009-06-30     27.0"
      ]
     },
     "execution_count": 25,
     "metadata": {},
     "output_type": "execute_result"
    }
   ],
   "source": [
    "df_table"
   ]
  },
  {
   "cell_type": "code",
   "execution_count": 26,
   "metadata": {},
   "outputs": [
    {
     "name": "stdout",
     "output_type": "stream",
     "text": [
      "<class 'pandas.core.frame.DataFrame'>\n",
      "RangeIndex: 58 entries, 0 to 57\n",
      "Data columns (total 2 columns):\n",
      " #   Column  Non-Null Count  Dtype  \n",
      "---  ------  --------------  -----  \n",
      " 0   Date    58 non-null     object \n",
      " 1   Value   58 non-null     float64\n",
      "dtypes: float64(1), object(1)\n",
      "memory usage: 1.0+ KB\n"
     ]
    }
   ],
   "source": [
    "df_table.info()\n",
    "# datatype of date is \"object\""
   ]
  },
  {
   "cell_type": "code",
   "execution_count": 28,
   "metadata": {},
   "outputs": [
    {
     "data": {
      "text/plain": [
       "<sqlite3.Connection at 0x1625787c5e0>"
      ]
     },
     "execution_count": 28,
     "metadata": {},
     "output_type": "execute_result"
    }
   ],
   "source": [
    "import sqlite3\n",
    "\n",
    "connection = sqlite3.connect(\"Tesla_quarterly.db\")\n",
    "connection"
   ]
  },
  {
   "cell_type": "code",
   "execution_count": 29,
   "metadata": {},
   "outputs": [
    {
     "data": {
      "text/plain": [
       "<sqlite3.Cursor at 0x162577f1740>"
      ]
     },
     "execution_count": 29,
     "metadata": {},
     "output_type": "execute_result"
    }
   ],
   "source": [
    "cursor = connection.cursor() # cursor is going to execute the sql commands in the database (create tables, insert tables in database)\n",
    "cursor.execute(\"\"\"CREATE TABLE revenue (Date, Revenue)\"\"\")"
   ]
  },
  {
   "cell_type": "code",
   "execution_count": 32,
   "metadata": {},
   "outputs": [],
   "source": [
    "# add data from dataframe in table, take name of created table \"revenue\"\n",
    "\n",
    "df_table.to_sql(\"revenue\", connection, if_exists = \"replace\", index = False)\n",
    "connection.commit() # commit to database\n",
    "\n",
    "# if_exists : if table already exists, it is going to replace the data and not give an error"
   ]
  },
  {
   "cell_type": "code",
   "execution_count": 34,
   "metadata": {},
   "outputs": [
    {
     "name": "stdout",
     "output_type": "stream",
     "text": [
      "('2023-12-31', 25167.0)\n",
      "('2023-09-30', 23350.0)\n",
      "('2023-06-30', 24927.0)\n",
      "('2023-03-31', 23329.0)\n",
      "('2022-12-31', 24318.0)\n",
      "('2022-09-30', 21454.0)\n",
      "('2022-06-30', 16934.0)\n",
      "('2022-03-31', 18756.0)\n",
      "('2021-12-31', 17719.0)\n",
      "('2021-09-30', 13757.0)\n",
      "('2021-06-30', 11958.0)\n",
      "('2021-03-31', 10389.0)\n",
      "('2020-12-31', 10744.0)\n",
      "('2020-09-30', 8771.0)\n",
      "('2020-06-30', 6036.0)\n",
      "('2020-03-31', 5985.0)\n",
      "('2019-12-31', 7384.0)\n",
      "('2019-09-30', 6303.0)\n",
      "('2019-06-30', 6350.0)\n",
      "('2019-03-31', 4541.0)\n",
      "('2018-12-31', 7226.0)\n",
      "('2018-09-30', 6824.0)\n",
      "('2018-06-30', 4002.0)\n",
      "('2018-03-31', 3409.0)\n",
      "('2017-12-31', 3288.0)\n",
      "('2017-09-30', 2985.0)\n",
      "('2017-06-30', 2790.0)\n",
      "('2017-03-31', 2696.0)\n",
      "('2016-12-31', 2285.0)\n",
      "('2016-09-30', 2298.0)\n",
      "('2016-06-30', 1270.0)\n",
      "('2016-03-31', 1147.0)\n",
      "('2015-12-31', 1214.0)\n",
      "('2015-09-30', 937.0)\n",
      "('2015-06-30', 955.0)\n",
      "('2015-03-31', 940.0)\n",
      "('2014-12-31', 957.0)\n",
      "('2014-09-30', 852.0)\n",
      "('2014-06-30', 769.0)\n",
      "('2014-03-31', 621.0)\n",
      "('2013-12-31', 615.0)\n",
      "('2013-09-30', 431.0)\n",
      "('2013-06-30', 405.0)\n",
      "('2013-03-31', 562.0)\n",
      "('2012-12-31', 306.0)\n",
      "('2012-09-30', 50.0)\n",
      "('2012-06-30', 27.0)\n",
      "('2012-03-31', 30.0)\n",
      "('2011-12-31', 39.0)\n",
      "('2011-09-30', 58.0)\n",
      "('2011-06-30', 58.0)\n",
      "('2011-03-31', 49.0)\n",
      "('2010-12-31', 36.0)\n",
      "('2010-09-30', 31.0)\n",
      "('2010-06-30', 28.0)\n",
      "('2010-03-31', 21.0)\n",
      "('2009-09-30', 46.0)\n",
      "('2009-06-30', 27.0)\n"
     ]
    }
   ],
   "source": [
    "query = \"SELECT * FROM revenue\"\n",
    "for row in connection.execute(query):\n",
    "    print(row)"
   ]
  },
  {
   "cell_type": "code",
   "execution_count": 39,
   "metadata": {},
   "outputs": [],
   "source": [
    "# Plot charts\n",
    "\n",
    "# Parse date to datetime type, because pandas does not recognise the object date as date and for example we would not be able to compare two periods\n",
    "df_table[\"Date\"] = pd.to_datetime(df_table[\"Date\"], format=\"%Y-%m-%d\")"
   ]
  },
  {
   "cell_type": "code",
   "execution_count": 40,
   "metadata": {},
   "outputs": [
    {
     "name": "stdout",
     "output_type": "stream",
     "text": [
      "<class 'pandas.core.frame.DataFrame'>\n",
      "RangeIndex: 58 entries, 0 to 57\n",
      "Data columns (total 2 columns):\n",
      " #   Column  Non-Null Count  Dtype         \n",
      "---  ------  --------------  -----         \n",
      " 0   Date    58 non-null     datetime64[ns]\n",
      " 1   Value   58 non-null     float64       \n",
      "dtypes: datetime64[ns](1), float64(1)\n",
      "memory usage: 1.0 KB\n"
     ]
    }
   ],
   "source": [
    "df_table.info()"
   ]
  },
  {
   "cell_type": "code",
   "execution_count": 44,
   "metadata": {},
   "outputs": [
    {
     "data": {
      "text/plain": [
       "<Axes: xlabel='Date', ylabel='Value'>"
      ]
     },
     "execution_count": 44,
     "metadata": {},
     "output_type": "execute_result"
    },
    {
     "data": {
      "image/png": "[encoded data removed]",
      "text/plain": [
       "<Figure size 640x480 with 1 Axes>"
      ]
     },
     "metadata": {},
     "output_type": "display_data"
    }
   ],
   "source": [
    "import seaborn as sns\n",
    "\n",
    "sns.lineplot(x = \"Date\", y = \"Value\", data = df_table)"
   ]
  },
  {
   "cell_type": "code",
   "execution_count": 47,
   "metadata": {},
   "outputs": [
    {
     "name": "stdout",
     "output_type": "stream",
     "text": [
      "Date\n",
      "2009       73.0\n",
      "2010      116.0\n",
      "2011      204.0\n",
      "2012      413.0\n",
      "2013     2013.0\n",
      "2014     3199.0\n",
      "2015     4046.0\n",
      "2016     7000.0\n",
      "2017    11759.0\n",
      "2018    21461.0\n",
      "2019    24578.0\n",
      "2020    31536.0\n",
      "2021    53823.0\n",
      "2022    81462.0\n",
      "2023    96773.0\n",
      "Name: Value, dtype: float64\n"
     ]
    }
   ],
   "source": [
    "# sns.barplot(x = \"Date\", y = \"Value\", data = df_table) -> date needs to be grouped by year, otherwise we have one bar for each row of dataframe and it becomes untidy\n",
    "grouped_revenue = df_table.groupby(df_table[\"Date\"].dt.year)[\"Value\"].sum()\n",
    "print(grouped_revenue)"
   ]
  },
  {
   "cell_type": "code",
   "execution_count": 48,
   "metadata": {},
   "outputs": [
    {
     "data": {
      "text/plain": [
       "<Axes: xlabel='Date', ylabel='Value'>"
      ]
     },
     "execution_count": 48,
     "metadata": {},
     "output_type": "execute_result"
    },
    {
     "data": {
      "image/png": "[encoded data removed]",
      "text/plain": [
       "<Figure size 640x480 with 1 Axes>"
      ]
     },
     "metadata": {},
     "output_type": "display_data"
    }
   ],
   "source": [
    "sns.barplot(grouped_revenue) #dates still close to each other"
   ]
  },
  {
   "cell_type": "code",
   "execution_count": 49,
   "metadata": {},
   "outputs": [
    {
     "data": {
      "text/plain": [
       "<Axes: xlabel='Date', ylabel='Value'>"
      ]
     },
     "execution_count": 49,
     "metadata": {},
     "output_type": "execute_result"
    },
    {
     "data": {
      "image/png": "[encoded data removed]",
      "text/plain": [
       "<Figure size 640x480 with 1 Axes>"
      ]
     },
     "metadata": {},
     "output_type": "display_data"
    }
   ],
   "source": [
    "grouped_revenue_month = df_table.groupby(df_table[\"Date\"].dt.month)[\"Value\"].sum()\n",
    "sns.barplot(grouped_revenue_month)"
   ]
  }
 ],
 "metadata": {
  "kernelspec": {
   "display_name": "Python 3",
   "language": "python",
   "name": "python3"
  },
  "language_info": {
   "codemirror_mode": {
    "name": "ipython",
    "version": 3
   },
   "file_extension": ".py",
   "mimetype": "text/x-python",
   "name": "python",
   "nbconvert_exporter": "python",
   "pygments_lexer": "ipython3",
   "version": "3.12.2"
  }
 },
 "nbformat": 4,
 "nbformat_minor": 2
}

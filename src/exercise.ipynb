{
 "cells": [
  {
   "cell_type": "code",
   "execution_count": 3,
   "metadata": {},
   "outputs": [
    {
     "data": {
      "text/plain": [
       "6"
      ]
     },
     "execution_count": 3,
     "metadata": {},
     "output_type": "execute_result"
    }
   ],
   "source": [
    "import os\n",
    "from sqlalchemy import create_engine\n",
    "import pandas as pd\n",
    "from dotenv import load_dotenv\n",
    "from bs4 import BeautifulSoup\n",
    "import requests\n",
    "\n",
    "req = requests.get('https://vaz.io/tesla') # whole html\n",
    "\n",
    "# get all tables from html\n",
    "soup = BeautifulSoup(req.text)\n",
    "all_tables = soup.find_all(\"table\")\n",
    "len(all_tables)\n"
   ]
  },
  {
   "cell_type": "code",
   "execution_count": 6,
   "metadata": {},
   "outputs": [
    {
     "name": "stdout",
     "output_type": "stream",
     "text": [
      "it si NOT in 0\n",
      "It is in 1\n",
      "it si NOT in 2\n",
      "it si NOT in 3\n",
      "it si NOT in 4\n",
      "it si NOT in 5\n"
     ]
    }
   ],
   "source": [
    "# we can't read the format of all_tables[1]text\n",
    "# find the table with quarterly\n",
    "table_number = 0\n",
    "\n",
    "for table in all_tables:\n",
    "    if 'Quarterly' in table.text:\n",
    "        print(\"It is in\", table_number)\n",
    "        quarterly_number = table_number\n",
    "    else: \n",
    "        print(\"it si NOT in\", table_number)\n",
    "    table_number = table_number + 1\n"
   ]
  },
  {
   "cell_type": "code",
   "execution_count": 7,
   "metadata": {},
   "outputs": [
    {
     "data": {
      "text/plain": [
       "1"
      ]
     },
     "execution_count": 7,
     "metadata": {},
     "output_type": "execute_result"
    }
   ],
   "source": [
    "quarterly_number"
   ]
  },
  {
   "cell_type": "code",
   "execution_count": 8,
   "metadata": {},
   "outputs": [
    {
     "data": {
      "text/plain": [
       "60"
      ]
     },
     "execution_count": 8,
     "metadata": {},
     "output_type": "execute_result"
    }
   ],
   "source": [
    "quarterly_table = all_tables[quarterly_number]\n",
    "\n",
    "quarterly_rows = quarterly_table.findAll('tr')\n",
    "len(quarterly_rows)"
   ]
  },
  {
   "cell_type": "code",
   "execution_count": 38,
   "metadata": {},
   "outputs": [
    {
     "name": "stdout",
     "output_type": "stream",
     "text": [
      "[['2023-12-31', 25.167], ['2023-09-30', 23.35], ['2023-06-30', 24.927], ['2023-03-31', 23.329], ['2022-12-31', 24.318], ['2022-09-30', 21.454], ['2022-06-30', 16.934], ['2022-03-31', 18.756], ['2021-12-31', 17.719], ['2021-09-30', 13.757], ['2021-06-30', 11.958], ['2021-03-31', 10.389], ['2020-12-31', 10.744], ['2020-09-30', 8.771], ['2020-06-30', 6.036], ['2020-03-31', 5.985], ['2019-12-31', 7.384], ['2019-09-30', 6.303], ['2019-06-30', 6.35], ['2019-03-31', 4.541], ['2018-12-31', 7.226], ['2018-09-30', 6.824], ['2018-06-30', 4.002], ['2018-03-31', 3.409], ['2017-12-31', 3.288], ['2017-09-30', 2.985], ['2017-06-30', 2.79], ['2017-03-31', 2.696], ['2016-12-31', 2.285], ['2016-09-30', 2.298], ['2016-06-30', 1.27], ['2016-03-31', 1.147], ['2015-12-31', 1.214], ['2015-09-30', 937.0], ['2015-06-30', 955.0], ['2015-03-31', 940.0], ['2014-12-31', 957.0], ['2014-09-30', 852.0], ['2014-06-30', 769.0], ['2014-03-31', 621.0], ['2013-12-31', 615.0], ['2013-09-30', 431.0], ['2013-06-30', 405.0], ['2013-03-31', 562.0], ['2012-12-31', 306.0], ['2012-09-30', 50.0], ['2012-06-30', 27.0], ['2012-03-31', 30.0], ['2011-12-31', 39.0], ['2011-09-30', 58.0], ['2011-06-30', 58.0], ['2011-03-31', 49.0], ['2010-12-31', 36.0], ['2010-09-30', 31.0], ['2010-06-30', 28.0], ['2010-03-31', 21.0], ['2009-09-30', 46.0], ['2009-06-30', 27.0]]\n"
     ]
    }
   ],
   "source": [
    "# store data in the dataframe\n",
    "new_table = []\n",
    "\n",
    "# find alla data from the rows\n",
    "\n",
    "for row in quarterly_rows:\n",
    "    tds = row.findAll('td')\n",
    "    if len(tds) == 2: # 2 is the numbers of the tds in the row. The first row for example is empty, we do not want it\n",
    "        # print cell content , first the date one and then the dollar one (0 is index from tds and not from the rows! 0, 1 are index within the tds 2 elements)\n",
    "       # print(tds[0].text, tds[1].text)\n",
    "        if tds[1].text != '':\n",
    "        # print(tds[0].text, float(tds[1].text.replace('$', '').replace(',', '.')))\n",
    "            row_date = tds[0].text\n",
    "            row_value = float(tds[1].text.replace('$', '').replace(',', '.')) # cleaned and converted to number\n",
    "            new_table.append([row_date, row_value])\n",
    "    \n",
    "\n",
    "print(new_table)\n",
    "\n"
   ]
  },
  {
   "cell_type": "code",
   "execution_count": 39,
   "metadata": {},
   "outputs": [
    {
     "name": "stdout",
     "output_type": "stream",
     "text": [
      "25.1\n"
     ]
    }
   ],
   "source": [
    "number_ex = '$25,1'\n",
    "real_number = float(number_ex.replace('$', '').replace(',', '.'))\n",
    "print(real_number)"
   ]
  },
  {
   "cell_type": "code",
   "execution_count": 40,
   "metadata": {},
   "outputs": [
    {
     "data": {
      "text/plain": [
       "<Axes: >"
      ]
     },
     "execution_count": 40,
     "metadata": {},
     "output_type": "execute_result"
    },
    {
     "data": {
      "image/png": "[encoded data removed]",
      "text/plain": [
       "<Figure size 640x480 with 1 Axes>"
      ]
     },
     "metadata": {},
     "output_type": "display_data"
    }
   ],
   "source": [
    "df_table = pd.DataFrame(new_table)\n",
    "df_table.columns = [\"Date\", \"Value\"]\n",
    "df_table.plot()"
   ]
  }
 ],
 "metadata": {
  "kernelspec": {
   "display_name": "Python 3",
   "language": "python",
   "name": "python3"
  },
  "language_info": {
   "codemirror_mode": {
    "name": "ipython",
    "version": 3
   },
   "file_extension": ".py",
   "mimetype": "text/x-python",
   "name": "python",
   "nbconvert_exporter": "python",
   "pygments_lexer": "ipython3",
   "version": "3.11.4"
  }
 },
 "nbformat": 4,
 "nbformat_minor": 2
}
